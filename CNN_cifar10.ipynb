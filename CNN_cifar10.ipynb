{
  "nbformat": 4,
  "nbformat_minor": 0,
  "metadata": {
    "colab": {
      "name": "CNN_cifar10.ipynb",
      "provenance": [],
      "authorship_tag": "ABX9TyPbGXU5Xw4YtyrEhnRdDWJD",
      "include_colab_link": true
    },
    "kernelspec": {
      "name": "python3",
      "display_name": "Python 3"
    },
    "language_info": {
      "name": "python"
    }
  },
  "cells": [
    {
      "cell_type": "markdown",
      "metadata": {
        "id": "view-in-github",
        "colab_type": "text"
      },
      "source": [
        "<a href=\"https://colab.research.google.com/github/dltnqls9788/AI-YangJaeHub/blob/main/CNN_cifar10.ipynb\" target=\"_parent\"><img src=\"https://colab.research.google.com/assets/colab-badge.svg\" alt=\"Open In Colab\"/></a>"
      ]
    },
    {
      "cell_type": "code",
      "execution_count": null,
      "metadata": {
        "id": "DfJIc0sdoe1Z"
      },
      "outputs": [],
      "source": [
        "import tensorflow as tf\n",
        "from tensorflow.keras import Sequential, Input\n",
        "from tensorflow.keras.layers import Conv2D, MaxPool2D, Dropout, Dense, GlobalAveragePooling2D\n",
        "from tensorflow.keras.optimizers import Adam, SGD\n",
        "from tensorflow.keras.utils import to_categorical\n",
        "\n",
        "import numpy as np\n",
        "import matplotlib.pyplot as plt"
      ]
    },
    {
      "cell_type": "code",
      "source": [
        "def load_cifar10():\n",
        "    (train_X, train_y), (test_X, test_y) = cifar10.load_data()\n",
        "\n",
        "    # 이미지 픽셀의 0~1 되도록 정규화 \n",
        "    train_X = train_X / 255.0\n",
        "    test_X = test_X / 255.0\n",
        "\n",
        "    # 0-9 레이블을 one-hot label로 바꾸기 \n",
        "    train_y = to_categorical(train_y, num_classes=10)\n",
        "    test_y = to_categorical(test_y, num_classes=10) \n",
        "\n",
        "\n",
        "    return train_X, train_y, test_X, test_y"
      ],
      "metadata": {
        "id": "F0qGeqI8olva"
      },
      "execution_count": null,
      "outputs": []
    },
    {
      "cell_type": "code",
      "source": [
        "def build_cnn_model(num_classes, input_shape):\n",
        "    model = Sequential()\n",
        "\n",
        "    # TODO: 지시사항 대로 CNN 모델을 만드세요.\n",
        "    model.add(Input(shape=input_shape))\n",
        "    model.add(Conv2D(16, (3,3), padding=\"same\", activation='relu'))\n",
        "    model.add(Conv2D(32, (3,3), padding=\"same\", activation='relu'))\n",
        "    model.add(MaxPool2D())\n",
        "\n",
        "    model.add(Conv2D(64, (3,3), padding=\"same\", activation='relu'))\n",
        "    model.add(Conv2D(128, (3,3), padding=\"same\", activation='relu'))\n",
        "    model.add(MaxPool2D())\n",
        "\n",
        "    model.add(Conv2D(256, (3,3), padding=\"same\", activation='relu'))\n",
        "    model.add(Conv2D(512, (3,3), padding=\"same\", activation='relu'))\n",
        "    model.add(MaxPool2D())\n",
        "    model.add(GlobalAveragePooling2D())\n",
        "\n",
        "    model.add(Dense(100, activation='relu'))\n",
        "    model.add(Dropout(0.5))\n",
        "    model.add(Dense(num_classes, activation='softmax'))\n",
        "    return model"
      ],
      "metadata": {
        "id": "BRzGV6InpHG6"
      },
      "execution_count": null,
      "outputs": []
    },
    {
      "cell_type": "code",
      "source": [
        "def plot_loss(hist, fig_name=\"loss\"):\n",
        "    # TODO: hist 객체에서 train loss와 valid loss를 불러오세요.\n",
        "    train_loss = hist.history['loss']\n",
        "    val_loss = hist.history['val_loss']\n",
        "    epochs = np.arange(1, len(train_loss) + 1)\n",
        "\n",
        "    fig, ax = plt.subplots(figsize=(12, 8))\n",
        "    ax.set_xticks(list(epochs))\n",
        "    # TODO: ax를 이용하여 train loss와 valid loss를 plot 하세요.\n",
        "    ax.plot(epochs, train_loss, marker='.', c='blue', label='Train Acc')\n",
        "    ax.plot(epochs, val_loss, marker='.', c='red', label='Valid Acc')\n",
        "\n",
        "    ax.legend(loc=\"upper right\")\n",
        "    ax.grid()\n",
        "    ax.set_xlabel(\"Epoch\")\n",
        "    ax.set_ylabel(\"Loss\")"
      ],
      "metadata": {
        "id": "Gf_W0m8OpSPf"
      },
      "execution_count": null,
      "outputs": []
    },
    {
      "cell_type": "code",
      "source": [
        "def plot_accuracy(hist, fig_name=\"accuracy\"):\n",
        "    # TODO: hist 객체에서 train accuracy와 valid accuracy를 불러오세요.\n",
        "    train_acc = hist.history['accuracy']\n",
        "    val_acc = hist.history['val_accuracy']\n",
        "    epochs = np.arange(1, len(train_acc) + 1)\n",
        "\n",
        "    fig, ax = plt.subplots(figsize=(12, 8))\n",
        "    ax.set_xticks(list(epochs))\n",
        "    # TODO: ax를 이용하여 train accuracy와와 valid accuracy와를 plot 하세요.\n",
        "    ax.plot(epochs, train_acc, marker='.', c='blue', label='Train Acc')\n",
        "    ax.plot(epochs, val_acc, marker='.', c='red', label='Valid Acc')\n",
        "\n",
        "    ax.legend(loc=\"lower right\")\n",
        "    ax.grid()\n",
        "    ax.set_xlabel(\"Epoch\")\n",
        "    ax.set_ylabel(\"Accuracy\")"
      ],
      "metadata": {
        "id": "2ItRaIavpYPu"
      },
      "execution_count": null,
      "outputs": []
    },
    {
      "cell_type": "code",
      "source": [
        "def get_topk_accuracy(test_y, pred_y, k=1):\n",
        "    # TODO: one-hot encoding으로 이루어진 test_y를 다시 정수 라벨 형식으로 바꾸세요.\n",
        "    true_labels = np.argmax(test_y, axis=1)\n",
        "\n",
        "    # TODO: pred_y를 확률값이 작은 것에서 큰 순서로 정렬하세요\n",
        "    pred_labels = np.argsort(pred_y, axis=1)\n",
        "\n",
        "    correct = 0\n",
        "    for true_label, pred_label in zip(true_labels, pred_labels):\n",
        "        # TODO: 현재 pred_label에서 확률값이 가장 큰 라벨 k개를 가져오세요\n",
        "        cur_preds = pred_label[-k:]\n",
        "\n",
        "        if true_label in cur_preds:\n",
        "            correct += 1\n",
        "\n",
        "    # TODO: Top-k accuarcy를 구하세요.\n",
        "    topk_accuracy = correct / len(true_labels)\n",
        "\n",
        "    return topk_accuracy"
      ],
      "metadata": {
        "id": "9pmvp624pWGu"
      },
      "execution_count": null,
      "outputs": []
    },
    {
      "cell_type": "code",
      "source": [
        "def main(model=None, epochs=30):\n",
        "    # 랜덤 시드 고정을 위한 코드입니다. 수정하지 마세요!\n",
        "    tf.random.set_seed(2021)\n",
        "\n",
        "    train_X, train_y, test_X, test_y = load_cifar10()\n",
        "    if model is None:\n",
        "        model = build_cnn_model(len(train_y[0]), train_X[0].shape)\n",
        "    model.summary()\n",
        "\n",
        "    # TODO: 지시사항 대로 모델의 optimizer, loss, metrics을 설정하세요.\n",
        "    optimizer = SGD(learning_rate=0.01, momentum=0.9, nesterov=True)\n",
        "    model.compile(optimizer=optimizer,\n",
        "                    loss='categorical_crossentropy',\n",
        "                    metrics=['accuracy'])\n",
        "\n",
        "    # TODO: 지시사항 대로 hyperparameter를 설정하여 모델을 학습하세요.\n",
        "    hist = model.fit(train_X, train_y, batch_size=32, epochs=epochs, validation_split=0.2, shuffle=True)\n",
        "\n",
        "    # TODO: Test 데이터를 적용했을 때 예측 확률을 구합니다.\n",
        "    pred_y = model.predict(test_X)\n",
        "    top1_accuracy = get_topk_accuracy(test_y, pred_y)\n",
        "    top3_accuracy = get_topk_accuracy(test_y, pred_y, k=3)\n",
        "    \n",
        "    print(\"Top-1 Accuracy: {:.3f}%\".format(top1_accuracy * 100))\n",
        "    print(\"Top-3 Accuracy: {:.3f}%\".format(top3_accuracy * 100))\n",
        "\n",
        "    # TODO: Test accuracy를 구하세요.\n",
        "    _, test_accuracy = model.evaluate(test_X, test_y)\n",
        "\n",
        "    # Tensorflow로 구한 test accuracy와 top1 accuracy는 같아야 합니다.\n",
        "    # 다만 부동 소수점 처리 문제로 완전히 같은 값이 나오지 않는 경우도 있어서\n",
        "    # 소수점 셋째 자리까지 반올림하여 비교합니다.\n",
        "    assert round(test_accuracy, 3) == round(top1_accuracy, 3)\n",
        "\n",
        "    plot_loss(hist)\n",
        "    plot_accuracy(hist)\n",
        "\n",
        "    return optimizer, hist, pred_y, test_accuracy\n",
        "\n",
        "if __name__ == '__main__':\n",
        "    main()"
      ],
      "metadata": {
        "id": "ymzfZS2I_v7-"
      },
      "execution_count": null,
      "outputs": []
    }
  ]
}