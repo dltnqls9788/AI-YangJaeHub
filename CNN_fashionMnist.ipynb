{
  "nbformat": 4,
  "nbformat_minor": 0,
  "metadata": {
    "colab": {
      "name": "CNN_fashionMnist.ipynb",
      "provenance": [],
      "authorship_tag": "ABX9TyMqHGUEY038pNmV7V+XO3mz",
      "include_colab_link": true
    },
    "kernelspec": {
      "name": "python3",
      "display_name": "Python 3"
    },
    "language_info": {
      "name": "python"
    }
  },
  "cells": [
    {
      "cell_type": "markdown",
      "metadata": {
        "id": "view-in-github",
        "colab_type": "text"
      },
      "source": [
        "<a href=\"https://colab.research.google.com/github/dltnqls9788/AI-YangJaeHub/blob/main/CNN_fashionMnist.ipynb\" target=\"_parent\"><img src=\"https://colab.research.google.com/assets/colab-badge.svg\" alt=\"Open In Colab\"/></a>"
      ]
    },
    {
      "cell_type": "code",
      "source": [
        "import numpy as np\n",
        "import tensorflow as tf\n",
        "import matplotlib.pyplot as plt\n",
        "\n",
        "from tensorflow.keras.datasets import fashion_mnist\n",
        "from tensorflow.keras.utils import to_categorical\n",
        "from tensorflow.keras.optimizers import Adam\n",
        "\n",
        "from tensorflow.keras import Sequential, Input\n",
        "from tensorflow.keras.layers import Conv2D, MaxPool2D, GlobalAveragePooling2D\n",
        "from tensorflow.keras.layers import Flatten, Dense, Dropout"
      ],
      "metadata": {
        "id": "nAfcvbIizayH"
      },
      "execution_count": null,
      "outputs": []
    },
    {
      "cell_type": "code",
      "source": [
        "def load_fashion_mnist():\n",
        "    (train_X, train_y), (test_X, test_y) = fashion_mnist.load_data()\n",
        "\n",
        "    # 이미지 픽셀의 0~1 되도록 정규화 \n",
        "    train_X = train_X / 255.0\n",
        "    test_X = test_X / 255.0\n",
        "\n",
        "    # dims 확장한다. 맨 뒤에 \n",
        "    train_X = np.expand_dims(train_X, axis=-1)\n",
        "    test_X = np.expand_dims(test_X, axis=-1)\n",
        "\n",
        "    # 0-9 레이블을 one-hot label로 바꾸기 \n",
        "    train_y = to_categorical(train_y, num_classes=10)\n",
        "    test_y = to_categorical(test_y, num_classes=10) \n",
        "\n",
        "\n",
        "    return train_X, train_y, test_X, test_y"
      ],
      "metadata": {
        "id": "iQKgzERtxYkj"
      },
      "execution_count": null,
      "outputs": []
    },
    {
      "cell_type": "code",
      "source": [
        "def build_cnn_model(num_classes, input_shape):\n",
        "  model=Sequential()\n",
        "  model.add(Input(shape=input_shape))\n",
        "  model.add(Conv2D(32, (3,3), padding='same', activation='relu'))\n",
        "  model.add(Conv2D(32, (3,3), padding='same', activation='relu'))\n",
        "  model.add(MaxPool2D())\n",
        "\n",
        "  model.add(Conv2D(64, (3,3), padding='same', activation='relu'))\n",
        "  model.add(Conv2D(64, (3,3), padding='same', activation='relu'))\n",
        "  model.add(MaxPool2D())\n",
        "\n",
        "  model.add(Conv2D(128, (3,3), padding='same', activation='relu'))\n",
        "  model.add(Conv2D(128, (3,3), padding='same', activation='relu'))\n",
        "  model.add(GlobalAveragePooling2D())\n",
        "\n",
        "  model.add(Dense(units=128, activation='relu'))\n",
        "  model.add(Dense(units=num_classes, activation='softmax'))\n",
        "\n",
        "  return model"
      ],
      "metadata": {
        "id": "lw0Z6H2o5YXu"
      },
      "execution_count": null,
      "outputs": []
    },
    {
      "cell_type": "code",
      "source": [
        "def plot_loss(hist):\n",
        "  plt.plot(hist.history['loss'], 'b-', label='loss')\n",
        "  plt.plot(hist.history['val_loss'], 'r--', label='val_loss')\n",
        "  plt.xlabel('Epoch')\n",
        "  plt.legend()"
      ],
      "metadata": {
        "id": "iI--xnP79XVf"
      },
      "execution_count": null,
      "outputs": []
    },
    {
      "cell_type": "code",
      "source": [
        "def plot_accuracy(hist):\n",
        "  plt.plot(hist.history['accuracy'], 'g-', label='accuracy')\n",
        "  plt.plot(hist.history['val_accuracy'], 'r--', label='val_accuracy')\n",
        "  plt.xlabel('Epoch')\n",
        "  plt.ylim(0.7, 1)\n",
        "  plt.legend()"
      ],
      "metadata": {
        "id": "1A0Du4aq9Nlt"
      },
      "execution_count": null,
      "outputs": []
    },
    {
      "cell_type": "code",
      "source": [
        "def main(cnn_model=None, epochs=5):\n",
        "  train_X, train_y, test_X, test_y = load_fashion_mnist()\n",
        "  # print('train_y[0]', train_y[0])\n",
        "  # print('train_X[0].shape', train_X[0].shape)\n",
        "\n",
        "  num_classes = len(train_y[0])\n",
        "  input_shape = train_X[0].shape\n",
        "\n",
        "  cnn_model = build_cnn_model(num_classes, input_shape)\n",
        "  print(cnn_model.summary())\n",
        "\n",
        "  cnn_model.compile(optimizer=Adam(learning_rate=1e-3),\n",
        "                    loss='categorical_crossentropy',\n",
        "                    metrics=['accuracy'])\n",
        "  \n",
        "  history = cnn_model.fit(train_X, train_y, batch_size=256, epochs=epochs, validation_split=0.25, shuffle=True)\n",
        "\n",
        "  test_loss, test_accuracy = cnn_model.evaluate(test_X, test_y)\n",
        "  print(f\"테스트 정확도: {test_accuracy * 100:.3f}%\")\n",
        "\n",
        "  plot_loss(history)\n",
        "  plt.show()\n",
        "\n",
        "  plot_accuracy(history)\n",
        "  plt.show()\n",
        "\n",
        "main()"
      ],
      "metadata": {
        "colab": {
          "base_uri": "https://localhost:8080/",
          "height": 1000
        },
        "id": "fwhFeJzlxh1Y",
        "outputId": "8fef3eab-ec4f-4c07-c561-63992a3a3c07"
      },
      "execution_count": null,
      "outputs": [
        {
          "output_type": "stream",
          "name": "stdout",
          "text": [
            "Model: \"sequential_1\"\n",
            "_________________________________________________________________\n",
            " Layer (type)                Output Shape              Param #   \n",
            "=================================================================\n",
            " conv2d_6 (Conv2D)           (None, 28, 28, 32)        320       \n",
            "                                                                 \n",
            " conv2d_7 (Conv2D)           (None, 28, 28, 32)        9248      \n",
            "                                                                 \n",
            " max_pooling2d_2 (MaxPooling  (None, 14, 14, 32)       0         \n",
            " 2D)                                                             \n",
            "                                                                 \n",
            " conv2d_8 (Conv2D)           (None, 14, 14, 64)        18496     \n",
            "                                                                 \n",
            " conv2d_9 (Conv2D)           (None, 14, 14, 64)        36928     \n",
            "                                                                 \n",
            " max_pooling2d_3 (MaxPooling  (None, 7, 7, 64)         0         \n",
            " 2D)                                                             \n",
            "                                                                 \n",
            " conv2d_10 (Conv2D)          (None, 7, 7, 128)         73856     \n",
            "                                                                 \n",
            " conv2d_11 (Conv2D)          (None, 7, 7, 128)         147584    \n",
            "                                                                 \n",
            " global_average_pooling2d_1   (None, 128)              0         \n",
            " (GlobalAveragePooling2D)                                        \n",
            "                                                                 \n",
            " dense_2 (Dense)             (None, 128)               16512     \n",
            "                                                                 \n",
            " dense_3 (Dense)             (None, 10)                1290      \n",
            "                                                                 \n",
            "=================================================================\n",
            "Total params: 304,234\n",
            "Trainable params: 304,234\n",
            "Non-trainable params: 0\n",
            "_________________________________________________________________\n",
            "None\n",
            "Epoch 1/5\n",
            "176/176 [==============================] - 259s 1s/step - loss: 1.0237 - accuracy: 0.6120 - val_loss: 0.6985 - val_accuracy: 0.7494\n",
            "Epoch 2/5\n",
            "176/176 [==============================] - 260s 1s/step - loss: 0.6186 - accuracy: 0.7682 - val_loss: 0.5524 - val_accuracy: 0.7898\n",
            "Epoch 3/5\n",
            "176/176 [==============================] - 259s 1s/step - loss: 0.5183 - accuracy: 0.8114 - val_loss: 0.5369 - val_accuracy: 0.8053\n",
            "Epoch 4/5\n",
            "176/176 [==============================] - 257s 1s/step - loss: 0.4595 - accuracy: 0.8341 - val_loss: 0.4313 - val_accuracy: 0.8391\n",
            "Epoch 5/5\n",
            "176/176 [==============================] - 258s 1s/step - loss: 0.4055 - accuracy: 0.8526 - val_loss: 0.3831 - val_accuracy: 0.8591\n",
            "313/313 [==============================] - 15s 49ms/step - loss: 0.3993 - accuracy: 0.8561\n",
            "테스트 정확도: 85.610%\n"
          ]
        },
        {
          "output_type": "display_data",
          "data": {
            "text/plain": [
              "<Figure size 432x288 with 1 Axes>"
            ],
            "image/png": "[encoded data removed]"
          },
          "metadata": {
            "needs_background": "light"
          }
        },
        {
          "output_type": "display_data",
          "data": {
            "text/plain": [
              "<Figure size 432x288 with 1 Axes>"
            ],
            "image/png": "[encoded data removed]"
          },
          "metadata": {
            "needs_background": "light"
          }
        }
      ]
    },
    {
      "cell_type": "code",
      "source": [
        ""
      ],
      "metadata": {
        "id": "pkYa57z9g97s"
      },
      "execution_count": null,
      "outputs": []
    }
  ]
}