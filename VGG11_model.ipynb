{
  "nbformat": 4,
  "nbformat_minor": 0,
  "metadata": {
    "colab": {
      "name": "VGG11 model.ipynb",
      "provenance": [],
      "collapsed_sections": [],
      "authorship_tag": "ABX9TyNwpKCqEjUTRWW+eTL7nStb",
      "include_colab_link": true
    },
    "kernelspec": {
      "name": "python3",
      "display_name": "Python 3"
    },
    "language_info": {
      "name": "python"
    }
  },
  "cells": [
    {
      "cell_type": "markdown",
      "metadata": {
        "id": "view-in-github",
        "colab_type": "text"
      },
      "source": [
        "<a href=\"https://colab.research.google.com/github/dltnqls9788/AI-YangJaeHub/blob/main/VGG11_model.ipynb\" target=\"_parent\"><img src=\"https://colab.research.google.com/assets/colab-badge.svg\" alt=\"Open In Colab\"/></a>"
      ]
    },
    {
      "cell_type": "code",
      "source": [
        "import os \n",
        "import numpy as np \n",
        "\n",
        "import tensorflow as tf\n",
        "from tensorflow.keras import layers, Sequential, Model \n",
        "from tensorflow.keras.optimizers import Adam \n",
        "from tensorflow.keras.datasets import fashion_mnist\n",
        "from tensorflow.keras.utils import to_categorical"
      ],
      "metadata": {
        "id": "joQtjO37OBzz"
      },
      "execution_count": null,
      "outputs": []
    },
    {
      "cell_type": "code",
      "execution_count": null,
      "metadata": {
        "id": "6d9eXL0_M4Oa"
      },
      "outputs": [],
      "source": [
        "def load_fashion_mnist():\n",
        "  (X_train, y_train), (X_test, y_test) = fashion_mnist.load_data()\n",
        "\n",
        "  # 정규화 \n",
        "  X_train = X_train / 255.0\n",
        "  X_test = X_test / 255.0 \n",
        "\n",
        "  # 차원 늘리기 \n",
        "  X_train = np.expand_dims(X_train, axis=-1)\n",
        "  X_test = np.expand_dims(X_test, axis=-1)\n",
        "  \n",
        "  # 원-핫인코딩\n",
        "  y_train = to_categorical(y_train, num_classes=10)\n",
        "  y_test = to_categorical(y_test, num_classes=10)\n",
        "\n",
        "  return X_train, y_train, X_test, y_test"
      ]
    },
    {
      "cell_type": "code",
      "source": [
        "def build_vgg_model(num_classes, input_shape):\n",
        "    model=Sequential()\n",
        "  \n",
        "    model.add(layers.Conv2D(16, (3,3), input_shape=input_shape, padding=\"same\", activation='relu'))\n",
        "    # model.add(layers.MaxPool2D())\n",
        "\n",
        "    model.add(layers.Conv2D(32, (3,3), padding=\"same\", activation='relu'))\n",
        "    # model.add(layers.MaxPool2D())\n",
        "\n",
        "    model.add(layers.Conv2D(64, (3,3), padding=\"same\", activation='relu'))\n",
        "    model.add(layers.Conv2D(64, (3,3), padding=\"same\", activation='relu'))\n",
        "    model.add(layers.MaxPool2D())\n",
        "\n",
        "    model.add(layers.Conv2D(128, (3,3), padding=\"same\", activation='relu'))\n",
        "    model.add(layers.Conv2D(128, (3,3), padding=\"same\", activation='relu'))\n",
        "    model.add(layers.MaxPool2D())\n",
        "\n",
        "    model.add(layers.Conv2D(128, (3,3), padding=\"same\", activation='relu'))\n",
        "    model.add(layers.Conv2D(128, (3,3), padding=\"same\", activation='relu'))\n",
        "    model.add(layers.MaxPool2D())\n",
        "\n",
        "    model.add(layers.Flatten())\n",
        "\n",
        "    model.add(layers.Dense(32, activation='relu'))\n",
        "    model.add(layers.Dense(32, activation='relu'))\n",
        "    model.add(layers.Dense(num_classes, activation='softmax'))\n",
        "\n",
        "    return model\n"
      ],
      "metadata": {
        "id": "bEuKty5ZOWg-"
      },
      "execution_count": null,
      "outputs": []
    },
    {
      "cell_type": "code",
      "source": [
        "def main(model=None, epochs=2):\n",
        "    tf.random.set_seed(2022)\n",
        "\n",
        "    X_train, y_train, X_test, y_test = load_fashion_mnist()\n",
        "\n",
        "    num_classes = 10 \n",
        "    input_shape = X_train[0].shape\n",
        "\n",
        "    if model is None:\n",
        "      model = build_vgg_model(num_classes, input_shape)\n",
        "\n",
        "    print(model.summary())\n",
        "    \n",
        "    optimizer = Adam(learning_rate=0.001)\n",
        "    model.compile(optimizer=optimizer,\n",
        "                  loss='categorical_crossentropy',\n",
        "                  metrics=['accuracy'])\n",
        "    \n",
        "    hist = model.fit(X_train, y_train, epochs=epochs, batch_size=64, validation_split=0.2,\n",
        "              shuffle=True, verbose=1)\n",
        "    \n",
        "    _, test_accuracy = model.evaluate(X_test, y_test)\n",
        "\n",
        "    print(f\"테스트 정확도: {test_accuracy * 100:.3f}%\")\n",
        "\n",
        "    return optimizer, hist, test_accuracy\n",
        "    "
      ],
      "metadata": {
        "id": "rruONJeLOYDm"
      },
      "execution_count": null,
      "outputs": []
    },
    {
      "cell_type": "code",
      "source": [
        "if __name__ == \"__main__\": \n",
        "  main()"
      ],
      "metadata": {
        "colab": {
          "base_uri": "https://localhost:8080/"
        },
        "id": "QRMED61-R3GX",
        "outputId": "14cfb8a0-5998-43d3-eb85-acfee234be2f"
      },
      "execution_count": null,
      "outputs": [
        {
          "output_type": "stream",
          "name": "stdout",
          "text": [
            "Model: \"sequential_5\"\n",
            "_________________________________________________________________\n",
            " Layer (type)                Output Shape              Param #   \n",
            "=================================================================\n",
            " conv2d_40 (Conv2D)          (None, 28, 28, 16)        160       \n",
            "                                                                 \n",
            " conv2d_41 (Conv2D)          (None, 28, 28, 32)        4640      \n",
            "                                                                 \n",
            " conv2d_42 (Conv2D)          (None, 28, 28, 64)        18496     \n",
            "                                                                 \n",
            " conv2d_43 (Conv2D)          (None, 28, 28, 64)        36928     \n",
            "                                                                 \n",
            " max_pooling2d_25 (MaxPoolin  (None, 14, 14, 64)       0         \n",
            " g2D)                                                            \n",
            "                                                                 \n",
            " conv2d_44 (Conv2D)          (None, 14, 14, 128)       73856     \n",
            "                                                                 \n",
            " conv2d_45 (Conv2D)          (None, 14, 14, 128)       147584    \n",
            "                                                                 \n",
            " max_pooling2d_26 (MaxPoolin  (None, 7, 7, 128)        0         \n",
            " g2D)                                                            \n",
            "                                                                 \n",
            " conv2d_46 (Conv2D)          (None, 7, 7, 128)         147584    \n",
            "                                                                 \n",
            " conv2d_47 (Conv2D)          (None, 7, 7, 128)         147584    \n",
            "                                                                 \n",
            " max_pooling2d_27 (MaxPoolin  (None, 3, 3, 128)        0         \n",
            " g2D)                                                            \n",
            "                                                                 \n",
            " flatten (Flatten)           (None, 1152)              0         \n",
            "                                                                 \n",
            " dense (Dense)               (None, 32)                36896     \n",
            "                                                                 \n",
            " dense_1 (Dense)             (None, 32)                1056      \n",
            "                                                                 \n",
            " dense_2 (Dense)             (None, 10)                330       \n",
            "                                                                 \n",
            "=================================================================\n",
            "Total params: 615,114\n",
            "Trainable params: 615,114\n",
            "Non-trainable params: 0\n",
            "_________________________________________________________________\n",
            "None\n",
            "Epoch 1/2\n",
            "750/750 [==============================] - 804s 1s/step - loss: 0.5136 - accuracy: 0.8099 - val_loss: 0.3509 - val_accuracy: 0.8702\n",
            "Epoch 2/2\n",
            "662/750 [=========================>....] - ETA: 1:28 - loss: 0.2961 - accuracy: 0.8915"
          ]
        }
      ]
    }
  ]
}